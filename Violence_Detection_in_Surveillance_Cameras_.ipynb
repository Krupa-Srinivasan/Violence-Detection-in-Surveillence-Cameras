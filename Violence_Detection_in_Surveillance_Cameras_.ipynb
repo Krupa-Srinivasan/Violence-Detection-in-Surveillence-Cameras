{
  "nbformat": 4,
  "nbformat_minor": 0,
  "metadata": {
    "colab": {
      "provenance": []
    },
    "kernelspec": {
      "name": "python3",
      "display_name": "Python 3"
    },
    "language_info": {
      "name": "python"
    }
  },
  "cells": [
    {
      "cell_type": "code",
      "execution_count": null,
      "metadata": {
        "id": "Ld09brL5i1bs"
      },
      "outputs": [],
      "source": [
        "\n",
        "import tensorflow as tf\n",
        "import numpy as np\n",
        "from skimage.io import imread\n",
        "from skimage.transform import resize\n",
        "import cv2\n",
        "import numpy as np\n",
        "import os\n",
        "from PIL import Image\n",
        "from io import BytesIO\n",
        "import time\n",
        "import matplotlib.pyplot as plt\n",
        "from keras.callbacks import TensorBoard\n"
      ]
    },
    {
      "cell_type": "code",
      "source": [
        "from tensorflow.python.client import device_lib"
      ],
      "metadata": {
        "id": "olx9p2e-eN5T"
      },
      "execution_count": null,
      "outputs": []
    },
    {
      "cell_type": "code",
      "source": [
        "def video_reader(cv2, filename):\n",
        "    frames = np.zeros((30, 160, 160, 3))\n",
        "    i = 0\n",
        "    print(frames.shape)\n",
        "\n",
        "    vc = cv2.VideoCapture(filename)\n",
        "    if vc.isOpened():\n",
        "        rval, frame = vc.read()\n",
        "    else:\n",
        "        rval = False\n",
        "\n",
        "    frm = resize(frame, (160, 160, 3))\n",
        "    frm = np.expand_dims(frm, axis=0)\n",
        "    if np.max(frm) > 1:\n",
        "        frm = frm / 255.0\n",
        "\n",
        "    frames[i][:] = frm\n",
        "    i += 1\n",
        "    print(\"reading video\")\n",
        "\n",
        "    while i < 30:\n",
        "        rval, frame = vc.read()\n",
        "        frm = resize(frame, (160, 160, 3))\n",
        "        frm = np.expand_dims(frm, axis=0)\n",
        "        if np.max(frm) > 1:\n",
        "            frm = frm / 255.0\n",
        "        frames[i][:] = frm\n",
        "        i += 1\n",
        "\n",
        "    return frames\n"
      ],
      "metadata": {
        "id": "GvRVuJPnkF21"
      },
      "execution_count": null,
      "outputs": []
    },
    {
      "cell_type": "code",
      "source": [
        "def surveillance_model2(tf, weight='/content/drive/MyDrive/best_weights.hdfs'):\n",
        "    layers = tf.keras.layers\n",
        "    models = tf.keras.models\n",
        "    losses = tf.keras.losses\n",
        "    optimizers = tf.keras.optimizers\n",
        "    metrics = tf.keras.metrics\n",
        "\n",
        "    num_classes = 2\n",
        "\n",
        "    input_shape = (160, 160, 3)\n",
        "    vg19 = tf.keras.applications.vgg19.VGG19\n",
        "    base_model = vg19(include_top=False, weights='imagenet', input_shape=input_shape)\n",
        "\n",
        "    cnn = models.Sequential()\n",
        "\n",
        "    cnn.add(base_model)\n",
        "    cnn.add(layers.Flatten())\n",
        "\n",
        "    model = models.Sequential()\n",
        "\n",
        "    model.add(layers.TimeDistributed(cnn, input_shape=(30, 160, 160, 3)))\n",
        "\n",
        "    model.add(layers.LSTM(30, return_sequences=True))\n",
        "\n",
        "    model.add(layers.TimeDistributed(layers.Dense(90)))\n",
        "    model.add(layers.Dropout(0.1))\n",
        "\n",
        "    model.add(layers.GlobalAveragePooling1D())\n",
        "\n",
        "    model.add(layers.Dense(512, activation='relu'))\n",
        "    model.add(layers.Dropout(0.3))\n",
        "    model.add(layers.Dense(num_classes, activation=\"sigmoid\"))\n",
        "\n",
        "    adam = optimizers.Adam(lr=0.0005, beta_1=0.9, beta_2=0.999, epsilon=1e-08)\n",
        "    model.load_weights(weight)\n",
        "    model.compile(loss='binary_crossentropy', optimizer=adam, metrics=[\"accuracy\"])\n",
        "\n",
        "    return model"
      ],
      "metadata": {
        "id": "ZF-fVLt3qYJJ"
      },
      "execution_count": null,
      "outputs": []
    },
    {
      "cell_type": "code",
      "source": [
        "import numpy as np\n",
        "from skimage.transform import resize\n",
        "np.random.seed(1234)\n",
        "model22= surveillance_model2(tf)"
      ],
      "metadata": {
        "id": "EyMk8ejirPeB"
      },
      "execution_count": null,
      "outputs": []
    },
    {
      "cell_type": "code",
      "source": [
        "\n",
        "def pred_violence(model, video, accuracy=0.9):\n",
        "    pred_test = model.predict(video)\n",
        "    if pred_test[0][1] >= accuracy:\n",
        "\n",
        "        return True, pred_test[0][1]\n",
        "    else:\n",
        "        return False, pred_test[0][1]\n"
      ],
      "metadata": {
        "id": "CSc42yI6h_W7"
      },
      "execution_count": null,
      "outputs": []
    },
    {
      "cell_type": "code",
      "source": [
        "def main_surveillance(video):\n",
        "    vid = video_reader(cv2,video)\n",
        "    datav = np.zeros((1, 30, 160, 160, 3))\n",
        "    datav[0][:][:] = vid\n",
        "    millis = int(round(time.time() * 1000))\n",
        "    print(millis)\n",
        "    f , precent = pred_violence(model22,datav,accuracy=0.65)\n",
        "    millis2 = int(round(time.time() * 1000))\n",
        "    print(millis2)\n",
        "    res = {'violence':f , 'precentegeofviolence':str(precent)}\n",
        "    res['processing_time'] =  str(millis2-millis)\n",
        "    return res"
      ],
      "metadata": {
        "id": "Cn-hwhMXp6Nk"
      },
      "execution_count": null,
      "outputs": []
    },
    {
      "cell_type": "code",
      "source": [
        "res = main_surveillance('/content/drive/MyDrive/v.mp4')\n",
        "print(res)"
      ],
      "metadata": {
        "colab": {
          "base_uri": "https://localhost:8080/"
        },
        "id": "znoODAPTqfXg",
        "outputId": "98f4517a-a798-4ed1-8856-acdc7f6055df"
      },
      "execution_count": null,
      "outputs": [
        {
          "output_type": "stream",
          "name": "stdout",
          "text": [
            "(30, 160, 160, 3)\n",
            "reading video\n",
            "1714576216537\n",
            "1/1 [==============================] - 13s 13s/step\n",
            "1714576230038\n",
            "{'violence': False, 'precentegeofviolence': '0.004806572', 'processing_time': '13501'}\n"
          ]
        }
      ]
    },
    {
      "cell_type": "code",
      "source": [
        "from google.colab import drive\n",
        "drive.mount('/content/drive')"
      ],
      "metadata": {
        "id": "1eGkSLky9HEu"
      },
      "execution_count": null,
      "outputs": []
    },
    {
      "cell_type": "code",
      "source": [
        "tensorboard --logdir logs/\n"
      ],
      "metadata": {
        "id": "yEsOZ43NPS45"
      },
      "execution_count": null,
      "outputs": []
    }
  ]
}